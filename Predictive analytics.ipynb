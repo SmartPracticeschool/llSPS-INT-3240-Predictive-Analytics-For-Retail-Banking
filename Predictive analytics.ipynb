{
 "cells": [
  {
   "cell_type": "code",
   "execution_count": 1,
   "metadata": {},
   "outputs": [],
   "source": [
    "#Importing libraries\n",
    "import pandas as pd\n",
    "import numpy as np\n",
    "import matplotlib.pyplot as plt"
   ]
  },
  {
   "cell_type": "code",
   "execution_count": 2,
   "metadata": {},
   "outputs": [
    {
     "data": {
      "text/html": [
       "<div>\n",
       "<style scoped>\n",
       "    .dataframe tbody tr th:only-of-type {\n",
       "        vertical-align: middle;\n",
       "    }\n",
       "\n",
       "    .dataframe tbody tr th {\n",
       "        vertical-align: top;\n",
       "    }\n",
       "\n",
       "    .dataframe thead th {\n",
       "        text-align: right;\n",
       "    }\n",
       "</style>\n",
       "<table border=\"1\" class=\"dataframe\">\n",
       "  <thead>\n",
       "    <tr style=\"text-align: right;\">\n",
       "      <th></th>\n",
       "      <th>age</th>\n",
       "      <th>job</th>\n",
       "      <th>marital</th>\n",
       "      <th>education</th>\n",
       "      <th>default</th>\n",
       "      <th>balance</th>\n",
       "      <th>housing</th>\n",
       "      <th>loan</th>\n",
       "      <th>contact</th>\n",
       "      <th>day</th>\n",
       "      <th>month</th>\n",
       "      <th>duration</th>\n",
       "      <th>campaign</th>\n",
       "      <th>pdays</th>\n",
       "      <th>previous</th>\n",
       "      <th>poutcome</th>\n",
       "      <th>deposit</th>\n",
       "    </tr>\n",
       "  </thead>\n",
       "  <tbody>\n",
       "    <tr>\n",
       "      <th>0</th>\n",
       "      <td>59</td>\n",
       "      <td>admin.</td>\n",
       "      <td>married</td>\n",
       "      <td>secondary</td>\n",
       "      <td>no</td>\n",
       "      <td>2343</td>\n",
       "      <td>yes</td>\n",
       "      <td>no</td>\n",
       "      <td>unknown</td>\n",
       "      <td>5</td>\n",
       "      <td>may</td>\n",
       "      <td>1042</td>\n",
       "      <td>1</td>\n",
       "      <td>-1</td>\n",
       "      <td>0</td>\n",
       "      <td>unknown</td>\n",
       "      <td>yes</td>\n",
       "    </tr>\n",
       "    <tr>\n",
       "      <th>1</th>\n",
       "      <td>56</td>\n",
       "      <td>admin.</td>\n",
       "      <td>married</td>\n",
       "      <td>secondary</td>\n",
       "      <td>no</td>\n",
       "      <td>45</td>\n",
       "      <td>no</td>\n",
       "      <td>no</td>\n",
       "      <td>unknown</td>\n",
       "      <td>5</td>\n",
       "      <td>may</td>\n",
       "      <td>1467</td>\n",
       "      <td>1</td>\n",
       "      <td>-1</td>\n",
       "      <td>0</td>\n",
       "      <td>unknown</td>\n",
       "      <td>yes</td>\n",
       "    </tr>\n",
       "    <tr>\n",
       "      <th>2</th>\n",
       "      <td>41</td>\n",
       "      <td>technician</td>\n",
       "      <td>married</td>\n",
       "      <td>secondary</td>\n",
       "      <td>no</td>\n",
       "      <td>1270</td>\n",
       "      <td>yes</td>\n",
       "      <td>no</td>\n",
       "      <td>unknown</td>\n",
       "      <td>5</td>\n",
       "      <td>may</td>\n",
       "      <td>1389</td>\n",
       "      <td>1</td>\n",
       "      <td>-1</td>\n",
       "      <td>0</td>\n",
       "      <td>unknown</td>\n",
       "      <td>yes</td>\n",
       "    </tr>\n",
       "    <tr>\n",
       "      <th>3</th>\n",
       "      <td>55</td>\n",
       "      <td>services</td>\n",
       "      <td>married</td>\n",
       "      <td>secondary</td>\n",
       "      <td>no</td>\n",
       "      <td>2476</td>\n",
       "      <td>yes</td>\n",
       "      <td>no</td>\n",
       "      <td>unknown</td>\n",
       "      <td>5</td>\n",
       "      <td>may</td>\n",
       "      <td>579</td>\n",
       "      <td>1</td>\n",
       "      <td>-1</td>\n",
       "      <td>0</td>\n",
       "      <td>unknown</td>\n",
       "      <td>yes</td>\n",
       "    </tr>\n",
       "    <tr>\n",
       "      <th>4</th>\n",
       "      <td>54</td>\n",
       "      <td>admin.</td>\n",
       "      <td>married</td>\n",
       "      <td>tertiary</td>\n",
       "      <td>no</td>\n",
       "      <td>184</td>\n",
       "      <td>no</td>\n",
       "      <td>no</td>\n",
       "      <td>unknown</td>\n",
       "      <td>5</td>\n",
       "      <td>may</td>\n",
       "      <td>673</td>\n",
       "      <td>2</td>\n",
       "      <td>-1</td>\n",
       "      <td>0</td>\n",
       "      <td>unknown</td>\n",
       "      <td>yes</td>\n",
       "    </tr>\n",
       "    <tr>\n",
       "      <th>...</th>\n",
       "      <td>...</td>\n",
       "      <td>...</td>\n",
       "      <td>...</td>\n",
       "      <td>...</td>\n",
       "      <td>...</td>\n",
       "      <td>...</td>\n",
       "      <td>...</td>\n",
       "      <td>...</td>\n",
       "      <td>...</td>\n",
       "      <td>...</td>\n",
       "      <td>...</td>\n",
       "      <td>...</td>\n",
       "      <td>...</td>\n",
       "      <td>...</td>\n",
       "      <td>...</td>\n",
       "      <td>...</td>\n",
       "      <td>...</td>\n",
       "    </tr>\n",
       "    <tr>\n",
       "      <th>11157</th>\n",
       "      <td>33</td>\n",
       "      <td>blue-collar</td>\n",
       "      <td>single</td>\n",
       "      <td>primary</td>\n",
       "      <td>no</td>\n",
       "      <td>1</td>\n",
       "      <td>yes</td>\n",
       "      <td>no</td>\n",
       "      <td>cellular</td>\n",
       "      <td>20</td>\n",
       "      <td>apr</td>\n",
       "      <td>257</td>\n",
       "      <td>1</td>\n",
       "      <td>-1</td>\n",
       "      <td>0</td>\n",
       "      <td>unknown</td>\n",
       "      <td>no</td>\n",
       "    </tr>\n",
       "    <tr>\n",
       "      <th>11158</th>\n",
       "      <td>39</td>\n",
       "      <td>services</td>\n",
       "      <td>married</td>\n",
       "      <td>secondary</td>\n",
       "      <td>no</td>\n",
       "      <td>733</td>\n",
       "      <td>no</td>\n",
       "      <td>no</td>\n",
       "      <td>unknown</td>\n",
       "      <td>16</td>\n",
       "      <td>jun</td>\n",
       "      <td>83</td>\n",
       "      <td>4</td>\n",
       "      <td>-1</td>\n",
       "      <td>0</td>\n",
       "      <td>unknown</td>\n",
       "      <td>no</td>\n",
       "    </tr>\n",
       "    <tr>\n",
       "      <th>11159</th>\n",
       "      <td>32</td>\n",
       "      <td>technician</td>\n",
       "      <td>single</td>\n",
       "      <td>secondary</td>\n",
       "      <td>no</td>\n",
       "      <td>29</td>\n",
       "      <td>no</td>\n",
       "      <td>no</td>\n",
       "      <td>cellular</td>\n",
       "      <td>19</td>\n",
       "      <td>aug</td>\n",
       "      <td>156</td>\n",
       "      <td>2</td>\n",
       "      <td>-1</td>\n",
       "      <td>0</td>\n",
       "      <td>unknown</td>\n",
       "      <td>no</td>\n",
       "    </tr>\n",
       "    <tr>\n",
       "      <th>11160</th>\n",
       "      <td>43</td>\n",
       "      <td>technician</td>\n",
       "      <td>married</td>\n",
       "      <td>secondary</td>\n",
       "      <td>no</td>\n",
       "      <td>0</td>\n",
       "      <td>no</td>\n",
       "      <td>yes</td>\n",
       "      <td>cellular</td>\n",
       "      <td>8</td>\n",
       "      <td>may</td>\n",
       "      <td>9</td>\n",
       "      <td>2</td>\n",
       "      <td>172</td>\n",
       "      <td>5</td>\n",
       "      <td>failure</td>\n",
       "      <td>no</td>\n",
       "    </tr>\n",
       "    <tr>\n",
       "      <th>11161</th>\n",
       "      <td>34</td>\n",
       "      <td>technician</td>\n",
       "      <td>married</td>\n",
       "      <td>secondary</td>\n",
       "      <td>no</td>\n",
       "      <td>0</td>\n",
       "      <td>no</td>\n",
       "      <td>no</td>\n",
       "      <td>cellular</td>\n",
       "      <td>9</td>\n",
       "      <td>jul</td>\n",
       "      <td>628</td>\n",
       "      <td>1</td>\n",
       "      <td>-1</td>\n",
       "      <td>0</td>\n",
       "      <td>unknown</td>\n",
       "      <td>no</td>\n",
       "    </tr>\n",
       "  </tbody>\n",
       "</table>\n",
       "<p>11162 rows × 17 columns</p>\n",
       "</div>"
      ],
      "text/plain": [
       "       age          job  marital  education default  balance housing loan  \\\n",
       "0       59       admin.  married  secondary      no     2343     yes   no   \n",
       "1       56       admin.  married  secondary      no       45      no   no   \n",
       "2       41   technician  married  secondary      no     1270     yes   no   \n",
       "3       55     services  married  secondary      no     2476     yes   no   \n",
       "4       54       admin.  married   tertiary      no      184      no   no   \n",
       "...    ...          ...      ...        ...     ...      ...     ...  ...   \n",
       "11157   33  blue-collar   single    primary      no        1     yes   no   \n",
       "11158   39     services  married  secondary      no      733      no   no   \n",
       "11159   32   technician   single  secondary      no       29      no   no   \n",
       "11160   43   technician  married  secondary      no        0      no  yes   \n",
       "11161   34   technician  married  secondary      no        0      no   no   \n",
       "\n",
       "        contact  day month  duration  campaign  pdays  previous poutcome  \\\n",
       "0       unknown    5   may      1042         1     -1         0  unknown   \n",
       "1       unknown    5   may      1467         1     -1         0  unknown   \n",
       "2       unknown    5   may      1389         1     -1         0  unknown   \n",
       "3       unknown    5   may       579         1     -1         0  unknown   \n",
       "4       unknown    5   may       673         2     -1         0  unknown   \n",
       "...         ...  ...   ...       ...       ...    ...       ...      ...   \n",
       "11157  cellular   20   apr       257         1     -1         0  unknown   \n",
       "11158   unknown   16   jun        83         4     -1         0  unknown   \n",
       "11159  cellular   19   aug       156         2     -1         0  unknown   \n",
       "11160  cellular    8   may         9         2    172         5  failure   \n",
       "11161  cellular    9   jul       628         1     -1         0  unknown   \n",
       "\n",
       "      deposit  \n",
       "0         yes  \n",
       "1         yes  \n",
       "2         yes  \n",
       "3         yes  \n",
       "4         yes  \n",
       "...       ...  \n",
       "11157      no  \n",
       "11158      no  \n",
       "11159      no  \n",
       "11160      no  \n",
       "11161      no  \n",
       "\n",
       "[11162 rows x 17 columns]"
      ]
     },
     "execution_count": 2,
     "metadata": {},
     "output_type": "execute_result"
    }
   ],
   "source": [
    "#Loading the dataset\n",
    "Data=pd.read_csv('bank.csv')\n",
    "Data"
   ]
  },
  {
   "cell_type": "code",
   "execution_count": 3,
   "metadata": {},
   "outputs": [
    {
     "data": {
      "text/plain": [
       "age          False\n",
       "job          False\n",
       "marital      False\n",
       "education    False\n",
       "default      False\n",
       "balance      False\n",
       "housing      False\n",
       "loan         False\n",
       "contact      False\n",
       "day          False\n",
       "month        False\n",
       "duration     False\n",
       "campaign     False\n",
       "pdays        False\n",
       "previous     False\n",
       "poutcome     False\n",
       "deposit      False\n",
       "dtype: bool"
      ]
     },
     "execution_count": 3,
     "metadata": {},
     "output_type": "execute_result"
    }
   ],
   "source": [
    "#checking out of null values\n",
    "Data.isnull().any()"
   ]
  },
  {
   "cell_type": "code",
   "execution_count": 4,
   "metadata": {},
   "outputs": [
    {
     "data": {
      "text/html": [
       "<div>\n",
       "<style scoped>\n",
       "    .dataframe tbody tr th:only-of-type {\n",
       "        vertical-align: middle;\n",
       "    }\n",
       "\n",
       "    .dataframe tbody tr th {\n",
       "        vertical-align: top;\n",
       "    }\n",
       "\n",
       "    .dataframe thead th {\n",
       "        text-align: right;\n",
       "    }\n",
       "</style>\n",
       "<table border=\"1\" class=\"dataframe\">\n",
       "  <thead>\n",
       "    <tr style=\"text-align: right;\">\n",
       "      <th></th>\n",
       "      <th>age</th>\n",
       "      <th>balance</th>\n",
       "      <th>day</th>\n",
       "      <th>duration</th>\n",
       "      <th>campaign</th>\n",
       "      <th>pdays</th>\n",
       "      <th>previous</th>\n",
       "    </tr>\n",
       "  </thead>\n",
       "  <tbody>\n",
       "    <tr>\n",
       "      <th>count</th>\n",
       "      <td>11162.000000</td>\n",
       "      <td>11162.000000</td>\n",
       "      <td>11162.000000</td>\n",
       "      <td>11162.000000</td>\n",
       "      <td>11162.000000</td>\n",
       "      <td>11162.000000</td>\n",
       "      <td>11162.000000</td>\n",
       "    </tr>\n",
       "    <tr>\n",
       "      <th>mean</th>\n",
       "      <td>41.231948</td>\n",
       "      <td>1528.538524</td>\n",
       "      <td>15.658036</td>\n",
       "      <td>371.993818</td>\n",
       "      <td>2.508421</td>\n",
       "      <td>51.330407</td>\n",
       "      <td>0.832557</td>\n",
       "    </tr>\n",
       "    <tr>\n",
       "      <th>std</th>\n",
       "      <td>11.913369</td>\n",
       "      <td>3225.413326</td>\n",
       "      <td>8.420740</td>\n",
       "      <td>347.128386</td>\n",
       "      <td>2.722077</td>\n",
       "      <td>108.758282</td>\n",
       "      <td>2.292007</td>\n",
       "    </tr>\n",
       "    <tr>\n",
       "      <th>min</th>\n",
       "      <td>18.000000</td>\n",
       "      <td>-6847.000000</td>\n",
       "      <td>1.000000</td>\n",
       "      <td>2.000000</td>\n",
       "      <td>1.000000</td>\n",
       "      <td>-1.000000</td>\n",
       "      <td>0.000000</td>\n",
       "    </tr>\n",
       "    <tr>\n",
       "      <th>25%</th>\n",
       "      <td>32.000000</td>\n",
       "      <td>122.000000</td>\n",
       "      <td>8.000000</td>\n",
       "      <td>138.000000</td>\n",
       "      <td>1.000000</td>\n",
       "      <td>-1.000000</td>\n",
       "      <td>0.000000</td>\n",
       "    </tr>\n",
       "    <tr>\n",
       "      <th>50%</th>\n",
       "      <td>39.000000</td>\n",
       "      <td>550.000000</td>\n",
       "      <td>15.000000</td>\n",
       "      <td>255.000000</td>\n",
       "      <td>2.000000</td>\n",
       "      <td>-1.000000</td>\n",
       "      <td>0.000000</td>\n",
       "    </tr>\n",
       "    <tr>\n",
       "      <th>75%</th>\n",
       "      <td>49.000000</td>\n",
       "      <td>1708.000000</td>\n",
       "      <td>22.000000</td>\n",
       "      <td>496.000000</td>\n",
       "      <td>3.000000</td>\n",
       "      <td>20.750000</td>\n",
       "      <td>1.000000</td>\n",
       "    </tr>\n",
       "    <tr>\n",
       "      <th>max</th>\n",
       "      <td>95.000000</td>\n",
       "      <td>81204.000000</td>\n",
       "      <td>31.000000</td>\n",
       "      <td>3881.000000</td>\n",
       "      <td>63.000000</td>\n",
       "      <td>854.000000</td>\n",
       "      <td>58.000000</td>\n",
       "    </tr>\n",
       "  </tbody>\n",
       "</table>\n",
       "</div>"
      ],
      "text/plain": [
       "                age       balance           day      duration      campaign  \\\n",
       "count  11162.000000  11162.000000  11162.000000  11162.000000  11162.000000   \n",
       "mean      41.231948   1528.538524     15.658036    371.993818      2.508421   \n",
       "std       11.913369   3225.413326      8.420740    347.128386      2.722077   \n",
       "min       18.000000  -6847.000000      1.000000      2.000000      1.000000   \n",
       "25%       32.000000    122.000000      8.000000    138.000000      1.000000   \n",
       "50%       39.000000    550.000000     15.000000    255.000000      2.000000   \n",
       "75%       49.000000   1708.000000     22.000000    496.000000      3.000000   \n",
       "max       95.000000  81204.000000     31.000000   3881.000000     63.000000   \n",
       "\n",
       "              pdays      previous  \n",
       "count  11162.000000  11162.000000  \n",
       "mean      51.330407      0.832557  \n",
       "std      108.758282      2.292007  \n",
       "min       -1.000000      0.000000  \n",
       "25%       -1.000000      0.000000  \n",
       "50%       -1.000000      0.000000  \n",
       "75%       20.750000      1.000000  \n",
       "max      854.000000     58.000000  "
      ]
     },
     "execution_count": 4,
     "metadata": {},
     "output_type": "execute_result"
    }
   ],
   "source": [
    "Data.describe()"
   ]
  },
  {
   "cell_type": "code",
   "execution_count": 5,
   "metadata": {},
   "outputs": [
    {
     "data": {
      "text/html": [
       "<div>\n",
       "<style scoped>\n",
       "    .dataframe tbody tr th:only-of-type {\n",
       "        vertical-align: middle;\n",
       "    }\n",
       "\n",
       "    .dataframe tbody tr th {\n",
       "        vertical-align: top;\n",
       "    }\n",
       "\n",
       "    .dataframe thead th {\n",
       "        text-align: right;\n",
       "    }\n",
       "</style>\n",
       "<table border=\"1\" class=\"dataframe\">\n",
       "  <thead>\n",
       "    <tr style=\"text-align: right;\">\n",
       "      <th></th>\n",
       "      <th>age</th>\n",
       "      <th>balance</th>\n",
       "      <th>day</th>\n",
       "      <th>duration</th>\n",
       "      <th>campaign</th>\n",
       "      <th>pdays</th>\n",
       "      <th>previous</th>\n",
       "    </tr>\n",
       "  </thead>\n",
       "  <tbody>\n",
       "    <tr>\n",
       "      <th>age</th>\n",
       "      <td>1.000000</td>\n",
       "      <td>0.112300</td>\n",
       "      <td>-0.000762</td>\n",
       "      <td>0.000189</td>\n",
       "      <td>-0.005278</td>\n",
       "      <td>0.002774</td>\n",
       "      <td>0.020169</td>\n",
       "    </tr>\n",
       "    <tr>\n",
       "      <th>balance</th>\n",
       "      <td>0.112300</td>\n",
       "      <td>1.000000</td>\n",
       "      <td>0.010467</td>\n",
       "      <td>0.022436</td>\n",
       "      <td>-0.013894</td>\n",
       "      <td>0.017411</td>\n",
       "      <td>0.030805</td>\n",
       "    </tr>\n",
       "    <tr>\n",
       "      <th>day</th>\n",
       "      <td>-0.000762</td>\n",
       "      <td>0.010467</td>\n",
       "      <td>1.000000</td>\n",
       "      <td>-0.018511</td>\n",
       "      <td>0.137007</td>\n",
       "      <td>-0.077232</td>\n",
       "      <td>-0.058981</td>\n",
       "    </tr>\n",
       "    <tr>\n",
       "      <th>duration</th>\n",
       "      <td>0.000189</td>\n",
       "      <td>0.022436</td>\n",
       "      <td>-0.018511</td>\n",
       "      <td>1.000000</td>\n",
       "      <td>-0.041557</td>\n",
       "      <td>-0.027392</td>\n",
       "      <td>-0.026716</td>\n",
       "    </tr>\n",
       "    <tr>\n",
       "      <th>campaign</th>\n",
       "      <td>-0.005278</td>\n",
       "      <td>-0.013894</td>\n",
       "      <td>0.137007</td>\n",
       "      <td>-0.041557</td>\n",
       "      <td>1.000000</td>\n",
       "      <td>-0.102726</td>\n",
       "      <td>-0.049699</td>\n",
       "    </tr>\n",
       "    <tr>\n",
       "      <th>pdays</th>\n",
       "      <td>0.002774</td>\n",
       "      <td>0.017411</td>\n",
       "      <td>-0.077232</td>\n",
       "      <td>-0.027392</td>\n",
       "      <td>-0.102726</td>\n",
       "      <td>1.000000</td>\n",
       "      <td>0.507272</td>\n",
       "    </tr>\n",
       "    <tr>\n",
       "      <th>previous</th>\n",
       "      <td>0.020169</td>\n",
       "      <td>0.030805</td>\n",
       "      <td>-0.058981</td>\n",
       "      <td>-0.026716</td>\n",
       "      <td>-0.049699</td>\n",
       "      <td>0.507272</td>\n",
       "      <td>1.000000</td>\n",
       "    </tr>\n",
       "  </tbody>\n",
       "</table>\n",
       "</div>"
      ],
      "text/plain": [
       "               age   balance       day  duration  campaign     pdays  previous\n",
       "age       1.000000  0.112300 -0.000762  0.000189 -0.005278  0.002774  0.020169\n",
       "balance   0.112300  1.000000  0.010467  0.022436 -0.013894  0.017411  0.030805\n",
       "day      -0.000762  0.010467  1.000000 -0.018511  0.137007 -0.077232 -0.058981\n",
       "duration  0.000189  0.022436 -0.018511  1.000000 -0.041557 -0.027392 -0.026716\n",
       "campaign -0.005278 -0.013894  0.137007 -0.041557  1.000000 -0.102726 -0.049699\n",
       "pdays     0.002774  0.017411 -0.077232 -0.027392 -0.102726  1.000000  0.507272\n",
       "previous  0.020169  0.030805 -0.058981 -0.026716 -0.049699  0.507272  1.000000"
      ]
     },
     "execution_count": 5,
     "metadata": {},
     "output_type": "execute_result"
    }
   ],
   "source": [
    "Data.corr()"
   ]
  },
  {
   "cell_type": "code",
   "execution_count": 6,
   "metadata": {},
   "outputs": [
    {
     "data": {
      "text/plain": [
       "management       2566\n",
       "blue-collar      1944\n",
       "technician       1823\n",
       "admin.           1334\n",
       "services          923\n",
       "retired           778\n",
       "self-employed     405\n",
       "student           360\n",
       "unemployed        357\n",
       "entrepreneur      328\n",
       "housemaid         274\n",
       "unknown            70\n",
       "Name: job, dtype: int64"
      ]
     },
     "execution_count": 6,
     "metadata": {},
     "output_type": "execute_result"
    }
   ],
   "source": [
    "#finding out of differnt values that are present in the column\n",
    "Data['job'].value_counts()"
   ]
  },
  {
   "cell_type": "code",
   "execution_count": 7,
   "metadata": {},
   "outputs": [
    {
     "data": {
      "text/plain": [
       "management       2636\n",
       "blue-collar      1944\n",
       "technician       1823\n",
       "admin.           1334\n",
       "services          923\n",
       "retired           778\n",
       "self-employed     405\n",
       "student           360\n",
       "unemployed        357\n",
       "entrepreneur      328\n",
       "housemaid         274\n",
       "Name: job, dtype: int64"
      ]
     },
     "execution_count": 7,
     "metadata": {},
     "output_type": "execute_result"
    }
   ],
   "source": [
    "#Filling of unknown values in job column using a mode technique\n",
    "Data['job'].replace({\"unknown\":\"management\"},inplace=True)\n",
    "Data['job'].value_counts()"
   ]
  },
  {
   "cell_type": "code",
   "execution_count": 8,
   "metadata": {},
   "outputs": [
    {
     "data": {
      "text/plain": [
       "married     6351\n",
       "single      3518\n",
       "divorced    1293\n",
       "Name: marital, dtype: int64"
      ]
     },
     "execution_count": 8,
     "metadata": {},
     "output_type": "execute_result"
    }
   ],
   "source": [
    "Data['marital'].value_counts()"
   ]
  },
  {
   "cell_type": "code",
   "execution_count": 9,
   "metadata": {},
   "outputs": [
    {
     "data": {
      "text/plain": [
       "secondary    5476\n",
       "tertiary     3689\n",
       "primary      1500\n",
       "unknown       497\n",
       "Name: education, dtype: int64"
      ]
     },
     "execution_count": 9,
     "metadata": {},
     "output_type": "execute_result"
    }
   ],
   "source": [
    "Data['education'].value_counts()"
   ]
  },
  {
   "cell_type": "code",
   "execution_count": 10,
   "metadata": {},
   "outputs": [
    {
     "data": {
      "text/plain": [
       "secondary    5973\n",
       "tertiary     3689\n",
       "primary      1500\n",
       "Name: education, dtype: int64"
      ]
     },
     "execution_count": 10,
     "metadata": {},
     "output_type": "execute_result"
    }
   ],
   "source": [
    "Data['education'].replace({\"unknown\":\"secondary\"},inplace=True)\n",
    "Data['education'].value_counts()"
   ]
  },
  {
   "cell_type": "code",
   "execution_count": 11,
   "metadata": {},
   "outputs": [
    {
     "data": {
      "text/plain": [
       "no     10994\n",
       "yes      168\n",
       "Name: default, dtype: int64"
      ]
     },
     "execution_count": 11,
     "metadata": {},
     "output_type": "execute_result"
    }
   ],
   "source": [
    "Data['default'].value_counts()"
   ]
  },
  {
   "cell_type": "code",
   "execution_count": 12,
   "metadata": {},
   "outputs": [
    {
     "data": {
      "text/plain": [
       "no     5881\n",
       "yes    5281\n",
       "Name: housing, dtype: int64"
      ]
     },
     "execution_count": 12,
     "metadata": {},
     "output_type": "execute_result"
    }
   ],
   "source": [
    "Data['housing'].value_counts()"
   ]
  },
  {
   "cell_type": "code",
   "execution_count": 13,
   "metadata": {},
   "outputs": [
    {
     "data": {
      "text/plain": [
       "no     9702\n",
       "yes    1460\n",
       "Name: loan, dtype: int64"
      ]
     },
     "execution_count": 13,
     "metadata": {},
     "output_type": "execute_result"
    }
   ],
   "source": [
    "Data['loan'].value_counts()"
   ]
  },
  {
   "cell_type": "code",
   "execution_count": 14,
   "metadata": {},
   "outputs": [
    {
     "data": {
      "text/plain": [
       "unknown    8326\n",
       "failure    1228\n",
       "success    1071\n",
       "other       537\n",
       "Name: poutcome, dtype: int64"
      ]
     },
     "execution_count": 14,
     "metadata": {},
     "output_type": "execute_result"
    }
   ],
   "source": [
    "Data['poutcome'].value_counts()"
   ]
  },
  {
   "cell_type": "code",
   "execution_count": 15,
   "metadata": {},
   "outputs": [
    {
     "data": {
      "text/plain": [
       "may    2824\n",
       "aug    1519\n",
       "jul    1514\n",
       "jun    1222\n",
       "nov     943\n",
       "apr     923\n",
       "feb     776\n",
       "oct     392\n",
       "jan     344\n",
       "sep     319\n",
       "mar     276\n",
       "dec     110\n",
       "Name: month, dtype: int64"
      ]
     },
     "execution_count": 15,
     "metadata": {},
     "output_type": "execute_result"
    }
   ],
   "source": [
    "Data['month'].value_counts()"
   ]
  },
  {
   "cell_type": "code",
   "execution_count": 16,
   "metadata": {},
   "outputs": [
    {
     "data": {
      "text/plain": [
       "no     5873\n",
       "yes    5289\n",
       "Name: deposit, dtype: int64"
      ]
     },
     "execution_count": 16,
     "metadata": {},
     "output_type": "execute_result"
    }
   ],
   "source": [
    "Data['deposit'].value_counts()"
   ]
  },
  {
   "cell_type": "code",
   "execution_count": 17,
   "metadata": {},
   "outputs": [
    {
     "data": {
      "text/html": [
       "<div>\n",
       "<style scoped>\n",
       "    .dataframe tbody tr th:only-of-type {\n",
       "        vertical-align: middle;\n",
       "    }\n",
       "\n",
       "    .dataframe tbody tr th {\n",
       "        vertical-align: top;\n",
       "    }\n",
       "\n",
       "    .dataframe thead th {\n",
       "        text-align: right;\n",
       "    }\n",
       "</style>\n",
       "<table border=\"1\" class=\"dataframe\">\n",
       "  <thead>\n",
       "    <tr style=\"text-align: right;\">\n",
       "      <th></th>\n",
       "      <th>age</th>\n",
       "      <th>job</th>\n",
       "      <th>marital</th>\n",
       "      <th>education</th>\n",
       "      <th>default</th>\n",
       "      <th>balance</th>\n",
       "      <th>housing</th>\n",
       "      <th>loan</th>\n",
       "      <th>day</th>\n",
       "      <th>duration</th>\n",
       "      <th>campaign</th>\n",
       "      <th>pdays</th>\n",
       "      <th>previous</th>\n",
       "      <th>deposit</th>\n",
       "    </tr>\n",
       "  </thead>\n",
       "  <tbody>\n",
       "    <tr>\n",
       "      <th>0</th>\n",
       "      <td>59</td>\n",
       "      <td>admin.</td>\n",
       "      <td>married</td>\n",
       "      <td>secondary</td>\n",
       "      <td>no</td>\n",
       "      <td>2343</td>\n",
       "      <td>yes</td>\n",
       "      <td>no</td>\n",
       "      <td>5</td>\n",
       "      <td>1042</td>\n",
       "      <td>1</td>\n",
       "      <td>-1</td>\n",
       "      <td>0</td>\n",
       "      <td>yes</td>\n",
       "    </tr>\n",
       "    <tr>\n",
       "      <th>1</th>\n",
       "      <td>56</td>\n",
       "      <td>admin.</td>\n",
       "      <td>married</td>\n",
       "      <td>secondary</td>\n",
       "      <td>no</td>\n",
       "      <td>45</td>\n",
       "      <td>no</td>\n",
       "      <td>no</td>\n",
       "      <td>5</td>\n",
       "      <td>1467</td>\n",
       "      <td>1</td>\n",
       "      <td>-1</td>\n",
       "      <td>0</td>\n",
       "      <td>yes</td>\n",
       "    </tr>\n",
       "    <tr>\n",
       "      <th>2</th>\n",
       "      <td>41</td>\n",
       "      <td>technician</td>\n",
       "      <td>married</td>\n",
       "      <td>secondary</td>\n",
       "      <td>no</td>\n",
       "      <td>1270</td>\n",
       "      <td>yes</td>\n",
       "      <td>no</td>\n",
       "      <td>5</td>\n",
       "      <td>1389</td>\n",
       "      <td>1</td>\n",
       "      <td>-1</td>\n",
       "      <td>0</td>\n",
       "      <td>yes</td>\n",
       "    </tr>\n",
       "    <tr>\n",
       "      <th>3</th>\n",
       "      <td>55</td>\n",
       "      <td>services</td>\n",
       "      <td>married</td>\n",
       "      <td>secondary</td>\n",
       "      <td>no</td>\n",
       "      <td>2476</td>\n",
       "      <td>yes</td>\n",
       "      <td>no</td>\n",
       "      <td>5</td>\n",
       "      <td>579</td>\n",
       "      <td>1</td>\n",
       "      <td>-1</td>\n",
       "      <td>0</td>\n",
       "      <td>yes</td>\n",
       "    </tr>\n",
       "    <tr>\n",
       "      <th>4</th>\n",
       "      <td>54</td>\n",
       "      <td>admin.</td>\n",
       "      <td>married</td>\n",
       "      <td>tertiary</td>\n",
       "      <td>no</td>\n",
       "      <td>184</td>\n",
       "      <td>no</td>\n",
       "      <td>no</td>\n",
       "      <td>5</td>\n",
       "      <td>673</td>\n",
       "      <td>2</td>\n",
       "      <td>-1</td>\n",
       "      <td>0</td>\n",
       "      <td>yes</td>\n",
       "    </tr>\n",
       "    <tr>\n",
       "      <th>...</th>\n",
       "      <td>...</td>\n",
       "      <td>...</td>\n",
       "      <td>...</td>\n",
       "      <td>...</td>\n",
       "      <td>...</td>\n",
       "      <td>...</td>\n",
       "      <td>...</td>\n",
       "      <td>...</td>\n",
       "      <td>...</td>\n",
       "      <td>...</td>\n",
       "      <td>...</td>\n",
       "      <td>...</td>\n",
       "      <td>...</td>\n",
       "      <td>...</td>\n",
       "    </tr>\n",
       "    <tr>\n",
       "      <th>11157</th>\n",
       "      <td>33</td>\n",
       "      <td>blue-collar</td>\n",
       "      <td>single</td>\n",
       "      <td>primary</td>\n",
       "      <td>no</td>\n",
       "      <td>1</td>\n",
       "      <td>yes</td>\n",
       "      <td>no</td>\n",
       "      <td>20</td>\n",
       "      <td>257</td>\n",
       "      <td>1</td>\n",
       "      <td>-1</td>\n",
       "      <td>0</td>\n",
       "      <td>no</td>\n",
       "    </tr>\n",
       "    <tr>\n",
       "      <th>11158</th>\n",
       "      <td>39</td>\n",
       "      <td>services</td>\n",
       "      <td>married</td>\n",
       "      <td>secondary</td>\n",
       "      <td>no</td>\n",
       "      <td>733</td>\n",
       "      <td>no</td>\n",
       "      <td>no</td>\n",
       "      <td>16</td>\n",
       "      <td>83</td>\n",
       "      <td>4</td>\n",
       "      <td>-1</td>\n",
       "      <td>0</td>\n",
       "      <td>no</td>\n",
       "    </tr>\n",
       "    <tr>\n",
       "      <th>11159</th>\n",
       "      <td>32</td>\n",
       "      <td>technician</td>\n",
       "      <td>single</td>\n",
       "      <td>secondary</td>\n",
       "      <td>no</td>\n",
       "      <td>29</td>\n",
       "      <td>no</td>\n",
       "      <td>no</td>\n",
       "      <td>19</td>\n",
       "      <td>156</td>\n",
       "      <td>2</td>\n",
       "      <td>-1</td>\n",
       "      <td>0</td>\n",
       "      <td>no</td>\n",
       "    </tr>\n",
       "    <tr>\n",
       "      <th>11160</th>\n",
       "      <td>43</td>\n",
       "      <td>technician</td>\n",
       "      <td>married</td>\n",
       "      <td>secondary</td>\n",
       "      <td>no</td>\n",
       "      <td>0</td>\n",
       "      <td>no</td>\n",
       "      <td>yes</td>\n",
       "      <td>8</td>\n",
       "      <td>9</td>\n",
       "      <td>2</td>\n",
       "      <td>172</td>\n",
       "      <td>5</td>\n",
       "      <td>no</td>\n",
       "    </tr>\n",
       "    <tr>\n",
       "      <th>11161</th>\n",
       "      <td>34</td>\n",
       "      <td>technician</td>\n",
       "      <td>married</td>\n",
       "      <td>secondary</td>\n",
       "      <td>no</td>\n",
       "      <td>0</td>\n",
       "      <td>no</td>\n",
       "      <td>no</td>\n",
       "      <td>9</td>\n",
       "      <td>628</td>\n",
       "      <td>1</td>\n",
       "      <td>-1</td>\n",
       "      <td>0</td>\n",
       "      <td>no</td>\n",
       "    </tr>\n",
       "  </tbody>\n",
       "</table>\n",
       "<p>11162 rows × 14 columns</p>\n",
       "</div>"
      ],
      "text/plain": [
       "       age          job  marital  education default  balance housing loan  \\\n",
       "0       59       admin.  married  secondary      no     2343     yes   no   \n",
       "1       56       admin.  married  secondary      no       45      no   no   \n",
       "2       41   technician  married  secondary      no     1270     yes   no   \n",
       "3       55     services  married  secondary      no     2476     yes   no   \n",
       "4       54       admin.  married   tertiary      no      184      no   no   \n",
       "...    ...          ...      ...        ...     ...      ...     ...  ...   \n",
       "11157   33  blue-collar   single    primary      no        1     yes   no   \n",
       "11158   39     services  married  secondary      no      733      no   no   \n",
       "11159   32   technician   single  secondary      no       29      no   no   \n",
       "11160   43   technician  married  secondary      no        0      no  yes   \n",
       "11161   34   technician  married  secondary      no        0      no   no   \n",
       "\n",
       "       day  duration  campaign  pdays  previous deposit  \n",
       "0        5      1042         1     -1         0     yes  \n",
       "1        5      1467         1     -1         0     yes  \n",
       "2        5      1389         1     -1         0     yes  \n",
       "3        5       579         1     -1         0     yes  \n",
       "4        5       673         2     -1         0     yes  \n",
       "...    ...       ...       ...    ...       ...     ...  \n",
       "11157   20       257         1     -1         0      no  \n",
       "11158   16        83         4     -1         0      no  \n",
       "11159   19       156         2     -1         0      no  \n",
       "11160    8         9         2    172         5      no  \n",
       "11161    9       628         1     -1         0      no  \n",
       "\n",
       "[11162 rows x 14 columns]"
      ]
     },
     "execution_count": 17,
     "metadata": {},
     "output_type": "execute_result"
    }
   ],
   "source": [
    "Data.drop([\"contact\",\"month\",\"poutcome\"],axis=1,inplace=True)\n",
    "Data"
   ]
  },
  {
   "cell_type": "code",
   "execution_count": 18,
   "metadata": {},
   "outputs": [
    {
     "data": {
      "text/plain": [
       "(11162, 14)"
      ]
     },
     "execution_count": 18,
     "metadata": {},
     "output_type": "execute_result"
    }
   ],
   "source": [
    "Data.shape"
   ]
  },
  {
   "cell_type": "code",
   "execution_count": 19,
   "metadata": {},
   "outputs": [
    {
     "data": {
      "text/plain": [
       "[<matplotlib.lines.Line2D at 0x18bd3cab448>]"
      ]
     },
     "execution_count": 19,
     "metadata": {},
     "output_type": "execute_result"
    },
    {
     "data": {
      "image/png": "[encoded data removed]",
      "text/plain": [
       "<Figure size 432x288 with 1 Axes>"
      ]
     },
     "metadata": {
      "needs_background": "light"
     },
     "output_type": "display_data"
    }
   ],
   "source": [
    "plt.plot(Data.iloc[0:100,0],Data.iloc[0:100,5])"
   ]
  },
  {
   "cell_type": "code",
   "execution_count": 20,
   "metadata": {},
   "outputs": [
    {
     "data": {
      "text/plain": [
       "<matplotlib.axes._subplots.AxesSubplot at 0x18bd5e7dc88>"
      ]
     },
     "execution_count": 20,
     "metadata": {},
     "output_type": "execute_result"
    },
    {
     "data": {
      "image/png": "[encoded data removed]",
      "text/plain": [
       "<Figure size 432x288 with 1 Axes>"
      ]
     },
     "metadata": {
      "needs_background": "light"
     },
     "output_type": "display_data"
    }
   ],
   "source": [
    "import seaborn as sns\n",
    "sns.boxplot(Data['duration'])"
   ]
  },
  {
   "cell_type": "code",
   "execution_count": 21,
   "metadata": {
    "scrolled": true
   },
   "outputs": [
    {
     "data": {
      "text/plain": [
       "<matplotlib.axes._subplots.AxesSubplot at 0x18bd5f00648>"
      ]
     },
     "execution_count": 21,
     "metadata": {},
     "output_type": "execute_result"
    },
    {
     "data": {
      "image/png": "[encoded data removed]",
      "text/plain": [
       "<Figure size 432x288 with 1 Axes>"
      ]
     },
     "metadata": {
      "needs_background": "light"
     },
     "output_type": "display_data"
    }
   ],
   "source": [
    "sns.boxplot(Data['balance'])"
   ]
  },
  {
   "cell_type": "code",
   "execution_count": 22,
   "metadata": {},
   "outputs": [
    {
     "data": {
      "text/plain": [
       "<matplotlib.axes._subplots.AxesSubplot at 0x18bd5f69988>"
      ]
     },
     "execution_count": 22,
     "metadata": {},
     "output_type": "execute_result"
    },
    {
     "data": {
      "image/png": "[encoded data removed]",
      "text/plain": [
       "<Figure size 432x288 with 1 Axes>"
      ]
     },
     "metadata": {
      "needs_background": "light"
     },
     "output_type": "display_data"
    }
   ],
   "source": [
    "sns.boxplot(Data['day'])"
   ]
  },
  {
   "cell_type": "code",
   "execution_count": 23,
   "metadata": {},
   "outputs": [
    {
     "data": {
      "text/plain": [
       "<matplotlib.axes._subplots.AxesSubplot at 0x18bd5fd6a08>"
      ]
     },
     "execution_count": 23,
     "metadata": {},
     "output_type": "execute_result"
    },
    {
     "data": {
      "image/png": "[encoded data removed]",
      "text/plain": [
       "<Figure size 432x288 with 1 Axes>"
      ]
     },
     "metadata": {
      "needs_background": "light"
     },
     "output_type": "display_data"
    }
   ],
   "source": [
    "sns.boxplot(Data['age'])"
   ]
  },
  {
   "cell_type": "code",
   "execution_count": 24,
   "metadata": {},
   "outputs": [
    {
     "data": {
      "text/plain": [
       "<matplotlib.axes._subplots.AxesSubplot at 0x18bd604cec8>"
      ]
     },
     "execution_count": 24,
     "metadata": {},
     "output_type": "execute_result"
    },
    {
     "data": {
      "image/png": "[encoded data removed]",
      "text/plain": [
       "<Figure size 432x288 with 1 Axes>"
      ]
     },
     "metadata": {
      "needs_background": "light"
     },
     "output_type": "display_data"
    }
   ],
   "source": [
    "sns.boxplot(Data['campaign'])"
   ]
  },
  {
   "cell_type": "code",
   "execution_count": 25,
   "metadata": {},
   "outputs": [
    {
     "data": {
      "text/plain": [
       "<matplotlib.axes._subplots.AxesSubplot at 0x18bd60a4448>"
      ]
     },
     "execution_count": 25,
     "metadata": {},
     "output_type": "execute_result"
    },
    {
     "data": {
      "image/png": "[encoded data removed]",
      "text/plain": [
       "<Figure size 432x288 with 1 Axes>"
      ]
     },
     "metadata": {
      "needs_background": "light"
     },
     "output_type": "display_data"
    }
   ],
   "source": [
    "sns.boxplot(Data['pdays'])"
   ]
  },
  {
   "cell_type": "code",
   "execution_count": 26,
   "metadata": {},
   "outputs": [
    {
     "data": {
      "image/png": "[encoded data removed]",
      "text/plain": [
       "<Figure size 432x288 with 1 Axes>"
      ]
     },
     "metadata": {
      "needs_background": "light"
     },
     "output_type": "display_data"
    }
   ],
   "source": [
    "manage_married={\n",
    "    'Subscribe':[0],\n",
    "    'Not-Subscribe':[0]\n",
    "}\n",
    "\n",
    "manage_married['Subscribe']=Data.loc[(Data['job']=='management') & (Data['marital']=='married'),'deposit'].value_counts()[0]\n",
    "manage_married['Not-Subscribe']=Data.loc[(Data['job']=='management') & (Data['marital']=='married'),'deposit'].value_counts()[1]\n",
    "#create index\n",
    "index_=['Management job']\n",
    "#create the Dataframe\n",
    "management_married=pd.DataFrame([manage_married])\n",
    "management_married.index=index_\n",
    "#for blue_collar \n",
    "blue_collar_married={\n",
    "    'Subscribe':[0],\n",
    "    'Not-Subscribe':[0]\n",
    "}\n",
    "blue_collar_married['Subscribe']=Data.loc[(Data['job']=='blue-collar') & (Data['marital']=='married'),'deposit'].value_counts()[0]\n",
    "blue_collar_married['Not-Subscribe']=Data.loc[(Data['job']=='blue-collar') & (Data['marital']=='married'),'deposit'].value_counts()[1]\n",
    "#create index\n",
    "index_=['Blue-Collar job']\n",
    "#create the Dataframe\n",
    "blue_collar_marriedd=pd.DataFrame([blue_collar_married])\n",
    "blue_collar_marriedd.index=index_\n",
    "\n",
    "technician_married={\n",
    "    'Subscribe':[0],\n",
    "    'Not-Subscribe':[0]\n",
    "}\n",
    "technician_married['Subscribe']=Data.loc[(Data['job']=='technician')&(Data['marital']=='married'),'deposit'].value_counts()[0]\n",
    "technician_married['Not-Subscribe']=Data.loc[(Data['job']=='technician')&(Data['marital']=='married'),'deposit'].value_counts()[1]\n",
    "#create index\n",
    "index_=['Technician']\n",
    "#create the Dataframe\n",
    "technician=pd.DataFrame([technician_married])\n",
    "technician.index=index_\n",
    "\n",
    "admin_married={\n",
    "    'Subscribe':[0],\n",
    "    'Not-Subscribe':[0]\n",
    "}\n",
    "admin_married['Subscribe']=Data.loc[(Data['job']=='admin.')&(Data['marital']=='married'),'deposit'].value_counts()[0]\n",
    "admin_married['Not-Subscribe']=Data.loc[(Data['job']=='admin.')&(Data['marital']=='married'),'deposit'].value_counts()[1]\n",
    "#create index\n",
    "index_=['Admin']\n",
    "#create the Dataframe\n",
    "admin=pd.DataFrame([admin_married])\n",
    "admin.index=index_\n",
    "\n",
    "services_married={\n",
    "    'Subscribe':[0],\n",
    "    'Not-Subscribe':[0]\n",
    "}\n",
    "services_married['Subscribe']=Data.loc[(Data['job']=='services')&(Data['marital']=='married'),'deposit'].value_counts()[0]\n",
    "services_married['Not-Subscribe']=Data.loc[(Data['job']=='services')&(Data['marital']=='married'),'deposit'].value_counts()[1]\n",
    "#create index\n",
    "index_=['Services']\n",
    "#create the Dataframe\n",
    "services=pd.DataFrame([services_married])\n",
    "services.index=index_\n",
    "\n",
    "retired_married={\n",
    "    'Subscribe':[0],\n",
    "    'Not-Subscribe':[0]\n",
    "}\n",
    "retired_married['Subscribe']=Data.loc[(Data['job']=='retired')&(Data['marital']=='married'),'deposit'].value_counts()[0]\n",
    "retired_married['Not-Subscribe']=Data.loc[(Data['job']=='retired')&(Data['marital']=='married'),'deposit'].value_counts()[1]\n",
    "#create index\n",
    "index_=['Retired']\n",
    "#create the Dataframe\n",
    "retired=pd.DataFrame([retired_married])\n",
    "retired.index=index_\n",
    "\n",
    "\n",
    "self_employed_married={\n",
    "    'Subscribe':[0],\n",
    "    'Not-Subscribe':[0]\n",
    "}\n",
    "self_employed_married['Subscribe']=Data.loc[(Data['job']=='self-employed')&(Data['marital']=='married'),'deposit'].value_counts()[0]\n",
    "self_employed_married['Not-Subscribe']=Data.loc[(Data['job']=='self-employed')&(Data['marital']=='married'),'deposit'].value_counts()[1]\n",
    "#create index\n",
    "index_=['Self-employed']\n",
    "#create the Dataframe\n",
    "self_employed=pd.DataFrame([self_employed_married])\n",
    "self_employed.index=index_\n",
    "\n",
    "\n",
    "student_married={\n",
    "    'Subscribe':[0],\n",
    "    'Not-Subscribe':[0]\n",
    "}\n",
    "student_married['Subscribe']=Data.loc[(Data['job']=='student')&(Data['marital']=='married'),'deposit'].value_counts()[0]\n",
    "student_married['Not-Subscribe']=Data.loc[(Data['job']=='student')&(Data['marital']=='married'),'deposit'].value_counts()[1]\n",
    "#create index\n",
    "index_=['Student']\n",
    "#create the Dataframe\n",
    "student=pd.DataFrame([student_married])\n",
    "student.index=index_\n",
    "\n",
    "unemployed_married={\n",
    "    'Subscribe':[0],\n",
    "    'Not-Subscribe':[0]\n",
    "}\n",
    "unemployed_married['Subscribe']=Data.loc[(Data['job']=='unemployed')&(Data['marital']=='married'),'deposit'].value_counts()[0]\n",
    "unemployed_married['Not-Subscribe']=Data.loc[(Data['job']=='unemployed')&(Data['marital']=='married'),'deposit'].value_counts()[1]\n",
    "#create index\n",
    "index_=['Unemployed']\n",
    "#create the Dataframe\n",
    "unemployed=pd.DataFrame([unemployed_married])\n",
    "unemployed.index=index_\n",
    "\n",
    "entrepreneur_married={\n",
    "    'Subscribe':[0],\n",
    "    'Not-Subscribe':[0]\n",
    "}\n",
    "entrepreneur_married['Subscribe']=Data.loc[(Data['job']=='entrepreneur')&(Data['marital']=='married'),'deposit'].value_counts()[0]\n",
    "entrepreneur_married['Not-Subscribe']=Data.loc[(Data['job']=='entrepreneur')&(Data['marital']=='married'),'deposit'].value_counts()[1]\n",
    "#create index\n",
    "index_=['entrepreneur']\n",
    "#create the Dataframe\n",
    "entrepreneur=pd.DataFrame([entrepreneur_married])\n",
    "entrepreneur.index=index_\n",
    "\n",
    "housemaid_married={\n",
    "    'Subscribe':[0],\n",
    "    'Not-Subscribe':[0]\n",
    "}\n",
    "housemaid_married['Subscribe']=Data.loc[(Data['job']=='housemaid')&(Data['marital']=='married'),'deposit'].value_counts()[0]\n",
    "housemaid_married['Not-Subscribe']=Data.loc[(Data['job']=='housemaid')&(Data['marital']=='married'),'deposit'].value_counts()[1]\n",
    "#create index\n",
    "index_=['housemaid']\n",
    "#create the Dataframe\n",
    "housemaid=pd.DataFrame([housemaid_married])\n",
    "housemaid.index=index_\n",
    "\n",
    "frames=[management_married,blue_collar_marriedd,technician,admin,services,retired,self_employed,student,unemployed,entrepreneur,housemaid]\n",
    "result=pd.concat(frames)\n",
    "job_married = pd.DataFrame(result)\n",
    "\n",
    "job_married[[\"Subscribe\",\"Not-Subscribe\"]].plot(kind=\"bar\",stacked=True)\n",
    "plt.title(\"Married People and their Job Types\")\n",
    "plt.show()"
   ]
  },
  {
   "cell_type": "code",
   "execution_count": 27,
   "metadata": {},
   "outputs": [
    {
     "data": {
      "image/png": "[encoded data removed]",
      "text/plain": [
       "<Figure size 432x288 with 1 Axes>"
      ]
     },
     "metadata": {
      "needs_background": "light"
     },
     "output_type": "display_data"
    }
   ],
   "source": [
    "job_married[[\"Subscribe\",\"Not-Subscribe\"]].plot(kind=\"bar\",stacked=False)\n",
    "plt.title(\"Married People and their Job types\")\n",
    "plt.show()"
   ]
  },
  {
   "cell_type": "code",
   "execution_count": 28,
   "metadata": {},
   "outputs": [
    {
     "data": {
      "image/png": "[encoded data removed]",
      "text/plain": [
       "<Figure size 432x288 with 1 Axes>"
      ]
     },
     "metadata": {
      "needs_background": "light"
     },
     "output_type": "display_data"
    }
   ],
   "source": [
    "manage_single={\n",
    "    'Subscribe':[0],\n",
    "    'Not-Subscribe':[0]\n",
    "}\n",
    "\n",
    "manage_single['Subscribe']=Data.loc[(Data['job']=='management') & (Data['marital']=='single'),'deposit'].value_counts()[0]\n",
    "manage_single['Not-Subscribe']=Data.loc[(Data['job']=='management') & (Data['marital']=='single'),'deposit'].value_counts()[1]\n",
    "#create index\n",
    "index_=['Management']\n",
    "#create the Dataframe\n",
    "management_single=pd.DataFrame([manage_single])\n",
    "management_single.index=index_\n",
    "#for blue_collar \n",
    "\n",
    "blue_collar_single={\n",
    "    'Subscribe':[0],\n",
    "    'Not-Subscribe':[0]\n",
    "}\n",
    "blue_collar_single['Subscribe']=Data.loc[(Data['job']=='blue-collar') & (Data['marital']=='single'),'deposit'].value_counts()[0]\n",
    "blue_collar_single['Not-Subscribe']=Data.loc[(Data['job']=='blue-collar') & (Data['marital']=='single'),'deposit'].value_counts()[1]\n",
    "#create index\n",
    "index_=['Blue-Collar']\n",
    "#create the Dataframe\n",
    "blue_collar=pd.DataFrame([blue_collar_single])\n",
    "blue_collar.index=index_\n",
    "\n",
    "technician_single={\n",
    "    'Subscribe':[0],\n",
    "    'Not-Subscribe':[0]\n",
    "}\n",
    "technician_single['Subscribe']=Data.loc[(Data['job']=='technician')&(Data['marital']=='single'),'deposit'].value_counts()[0]\n",
    "technician_single['Not-Subscribe']=Data.loc[(Data['job']=='technician')&(Data['marital']=='single'),'deposit'].value_counts()[1]\n",
    "#create index\n",
    "index_=['Technician']\n",
    "#create the Dataframe\n",
    "technician=pd.DataFrame([technician_single])\n",
    "technician.index=index_\n",
    "technician\n",
    "\n",
    "admin_single={\n",
    "    'Subscribe':[0],\n",
    "    'Not-Subscribe':[0]\n",
    "}\n",
    "admin_single['Subscribe']=Data.loc[(Data['job']=='admin.')&(Data['marital']=='single'),'deposit'].value_counts()[0]\n",
    "admin_single['Not-Subscribe']=Data.loc[(Data['job']=='admin.')&(Data['marital']=='single'),'deposit'].value_counts()[1]\n",
    "#create index\n",
    "index_=['Admin']\n",
    "#create the Dataframe\n",
    "admin=pd.DataFrame([admin_single])\n",
    "admin.index=index_\n",
    "\n",
    "services_single={\n",
    "    'Subscribe':[0],\n",
    "    'Not-Subscribe':[0]\n",
    "}\n",
    "services_single['Subscribe']=Data.loc[(Data['job']=='services')&(Data['marital']=='single'),'deposit'].value_counts()[0]\n",
    "services_single['Not-Subscribe']=Data.loc[(Data['job']=='services')&(Data['marital']=='single'),'deposit'].value_counts()[1]\n",
    "#create index\n",
    "index_=['services']\n",
    "#create the Dataframe\n",
    "services=pd.DataFrame([services_single])\n",
    "services.index=index_\n",
    "\n",
    "retired_single={\n",
    "    'Subscribe':[0],\n",
    "    'Not-Subscribe':[0]\n",
    "}\n",
    "retired_single['Subscribe']=Data.loc[(Data['job']=='retired')&(Data['marital']=='single'),'deposit'].value_counts()[0]\n",
    "retired_single['Not-Subscribe']=Data.loc[(Data['job']=='retired')&(Data['marital']=='single'),'deposit'].value_counts()[1]\n",
    "#create index\n",
    "index_=['Retired']\n",
    "#create the Dataframe\n",
    "retired=pd.DataFrame([retired_single])\n",
    "retired.index=index_\n",
    "\n",
    "self_employed_single={\n",
    "    'Subscribe':[0],\n",
    "    'Not-Subscribe':[0]\n",
    "}\n",
    "self_employed_single['Subscribe']=Data.loc[(Data['job']=='self-employed')&(Data['marital']=='single'),'deposit'].value_counts()[0]\n",
    "self_employed_single['Not-Subscribe']=Data.loc[(Data['job']=='self-employed')&(Data['marital']=='single'),'deposit'].value_counts()[1]\n",
    "#create index\n",
    "index_=['Self Employed']\n",
    "#create the Dataframe\n",
    "self_employed=pd.DataFrame([self_employed_single])\n",
    "self_employed.index=index_\n",
    "\n",
    "student_single={\n",
    "    'Subscribe':[0],\n",
    "    'Not-Subscribe':[0]\n",
    "}\n",
    "student_single['Subscribe']=Data.loc[(Data['job']=='student')&(Data['marital']=='single'),'deposit'].value_counts()[0]\n",
    "student_single['Not-Subscribe']=Data.loc[(Data['job']=='student')&(Data['marital']=='single'),'deposit'].value_counts()[1]\n",
    "#create index\n",
    "index_=['Student']\n",
    "#create the Dataframe\n",
    "student=pd.DataFrame([student_single])\n",
    "student.index=index_\n",
    "\n",
    "unemployed_single={\n",
    "    'Subscribe':[0],\n",
    "    'Not-Subscribe':[0]\n",
    "}\n",
    "unemployed_single['Subscribe']=Data.loc[(Data['job']=='unemployed')&(Data['marital']=='single'),'deposit'].value_counts()[0]\n",
    "unemployed_single['Not-Subscribe']=Data.loc[(Data['job']=='unemployed')&(Data['marital']=='single'),'deposit'].value_counts()[1]\n",
    "#create index\n",
    "index_=['Unemployed']\n",
    "#create the Dataframe\n",
    "unemployed=pd.DataFrame([unemployed_single])\n",
    "unemployed.index=index_\n",
    "\n",
    "entrepreneur_single={\n",
    "    'Subscribe':[0],\n",
    "    'Not-Subscribe':[0]\n",
    "}\n",
    "entrepreneur_single['Subscribe']=Data.loc[(Data['job']=='entrepreneur')&(Data['marital']=='single'),'deposit'].value_counts()[0]\n",
    "entrepreneur_single['Not-Subscribe']=Data.loc[(Data['job']=='entrepreneur')&(Data['marital']=='single'),'deposit'].value_counts()[1]\n",
    "#create index\n",
    "index_=['entrepreneur']\n",
    "#create the Dataframe\n",
    "entrepreneur=pd.DataFrame([unemployed_single])\n",
    "entrepreneur.index=index_\n",
    "\n",
    "housemaid_single={\n",
    "    'Subscribe':[0],\n",
    "    'Not-Subscribe':[0]\n",
    "}\n",
    "housemaid_single['Subscribe']=Data.loc[(Data['job']=='housemaid')&(Data['marital']=='single'),'deposit'].value_counts()[0]\n",
    "housemaid_single['Not-Subscribe']=Data.loc[(Data['job']=='housemaid')&(Data['marital']=='single'),'deposit'].value_counts()[1]\n",
    "#create index\n",
    "index_=['housemaid']\n",
    "#create the Dataframe\n",
    "housemaid=pd.DataFrame([unemployed_single])\n",
    "housemaid.index=index_\n",
    "\n",
    "frames2=[management_single,blue_collar,technician,admin,services,retired,self_employed,student,unemployed,entrepreneur,housemaid]\n",
    "result2=pd.concat(frames2)\n",
    "job_single = pd.DataFrame(result2)\n",
    "job_single\n",
    "\n",
    "job_single[[\"Subscribe\",\"Not-Subscribe\"]].plot(kind=\"bar\",stacked=True)\n",
    "plt.title(\"Single people and their Job type\")\n",
    "plt.show()"
   ]
  },
  {
   "cell_type": "code",
   "execution_count": 29,
   "metadata": {},
   "outputs": [
    {
     "data": {
      "image/png": "[encoded data removed]",
      "text/plain": [
       "<Figure size 432x288 with 1 Axes>"
      ]
     },
     "metadata": {
      "needs_background": "light"
     },
     "output_type": "display_data"
    }
   ],
   "source": [
    "job_single[[\"Subscribe\",\"Not-Subscribe\"]].plot(kind=\"bar\",stacked=False)\n",
    "plt.title(\"Single people and their Job type\")\n",
    "plt.show()"
   ]
  },
  {
   "cell_type": "code",
   "execution_count": 30,
   "metadata": {},
   "outputs": [
    {
     "data": {
      "image/png": "[encoded data removed]",
      "text/plain": [
       "<Figure size 432x288 with 1 Axes>"
      ]
     },
     "metadata": {
      "needs_background": "light"
     },
     "output_type": "display_data"
    }
   ],
   "source": [
    "manage_divorced={\n",
    "    'Subscribe':[0],\n",
    "    'Not-Subscribe':[0]\n",
    "}\n",
    "\n",
    "manage_divorced['Subscribe']=Data.loc[(Data['job']=='management') & (Data['marital']=='divorced'),'deposit'].value_counts()[0]\n",
    "manage_divorced['Not-Subscribe']=Data.loc[(Data['job']=='management') & (Data['marital']=='divorced'),'deposit'].value_counts()[1]\n",
    "#create index\n",
    "index_=['Management']\n",
    "#create the Dataframe\n",
    "management_divorced=pd.DataFrame([manage_divorced])\n",
    "management_divorced.index=index_\n",
    "#for blue_collar \n",
    "\n",
    "blue_divorced={\n",
    "    'Subscribe':[0],\n",
    "    'Not-Subscribe':[0]\n",
    "}\n",
    "\n",
    "blue_divorced['Subscribe']=Data.loc[(Data['job']=='blue-collar') & (Data['marital']=='divorced'),'deposit'].value_counts()[0]\n",
    "blue_divorced['Not-Subscribe']=Data.loc[(Data['job']=='blue-collar') & (Data['marital']=='divorced'),'deposit'].value_counts()[1]\n",
    "#create index\n",
    "index_=['Blue Collar']\n",
    "#create the Dataframe\n",
    "blue_divorced=pd.DataFrame([blue_divorced])\n",
    "blue_divorced.index=index_\n",
    "#for blue_collar \n",
    "\n",
    "technician_divorced={\n",
    "    'Subscribe':[0],\n",
    "    'Not-Subscribe':[0]\n",
    "}\n",
    "\n",
    "technician_divorced['Subscribe']=Data.loc[(Data['job']=='technician') & (Data['marital']=='divorced'),'deposit'].value_counts()[0]\n",
    "technician_divorced['Not-Subscribe']=Data.loc[(Data['job']=='technician') & (Data['marital']=='divorced'),'deposit'].value_counts()[1]\n",
    "#create index\n",
    "index_=['technician']\n",
    "#create the Dataframe\n",
    "technician_divorced=pd.DataFrame([technician_divorced])\n",
    "technician_divorced.index=index_\n",
    "#for blue_collar \n",
    "\n",
    "admin_divorced={\n",
    "    'Subscribe':[0],\n",
    "    'Not-Subscribe':[0]\n",
    "}\n",
    "admin_divorced['Subscribe']=Data.loc[(Data['job']=='admin.') & (Data['marital']=='divorced'),'deposit'].value_counts()[0]\n",
    "admin_divorced['Not-Subscribe']=Data.loc[(Data['job']=='admin.') & (Data['marital']=='divorced'),'deposit'].value_counts()[1]\n",
    "#create index\n",
    "index_=['Admin']\n",
    "#create the Dataframe\n",
    "admin_divorced=pd.DataFrame([admin_divorced])\n",
    "admin_divorced.index=index_\n",
    "#for blue_collar \n",
    "\n",
    "services_divorced={\n",
    "    'Subscribe':[0],\n",
    "    'Not-Subscribe':[0]\n",
    "}\n",
    "services_divorced['Subscribe']=Data.loc[(Data['job']=='services') & (Data['marital']=='divorced'),'deposit'].value_counts()[0]\n",
    "services_divorced['Not-Subscribe']=Data.loc[(Data['job']=='services') & (Data['marital']=='divorced'),'deposit'].value_counts()[1]\n",
    "#create index\n",
    "index_=['services']\n",
    "#create the Dataframe\n",
    "services_divorced=pd.DataFrame([services_divorced])\n",
    "services_divorced.index=index_\n",
    "#for blue_\n",
    "retired_divorced={\n",
    "    'Subscribe':[0],\n",
    "    'Not-Subscribe':[0]\n",
    "}\n",
    "retired_divorced['Subscribe']=Data.loc[(Data['job']=='retired') & (Data['marital']=='divorced'),'deposit'].value_counts()[0]\n",
    "retired_divorced['Not-Subscribe']=Data.loc[(Data['job']=='retired') & (Data['marital']=='divorced'),'deposit'].value_counts()[1]\n",
    "#create index\n",
    "index_=['retired']\n",
    "#create the Dataframe\n",
    "retired_divorced=pd.DataFrame([retired_divorced])\n",
    "retired_divorced.index=index_\n",
    "#for blue_\n",
    "self_employed_divorced={\n",
    "    'Subscribe':[0],\n",
    "    'Not-Subscribe':[0]\n",
    "}\n",
    "self_employed_divorced['Subscribe']=Data.loc[(Data['job']=='self-employed') & (Data['marital']=='divorced'),'deposit'].value_counts()[0]\n",
    "self_employed_divorced['Not-Subscribe']=Data.loc[(Data['job']=='self-employed') & (Data['marital']=='divorced'),'deposit'].value_counts()[1]\n",
    "#create index\n",
    "index_=['self_employed']\n",
    "#create the Dataframe\n",
    "self_employed_divorced=pd.DataFrame([self_employed_divorced])\n",
    "self_employed_divorced.index=index_\n",
    "#for blue_\n",
    "student_divorced={\n",
    "    'Subscribe':[0],\n",
    "    'Not-Subscribe':[0]\n",
    "}\n",
    "student_divorced['Subscribe']=Data.loc[(Data['job']=='student') & (Data['marital']=='divorced'),'deposit'].value_counts()[0]\n",
    "student_divorced['Not-Subscribe']=Data.loc[(Data['job']=='student') & (Data['marital']=='divorced'),'deposit'].value_counts()[1]\n",
    "#create index\n",
    "index_=['student']\n",
    "#create the Dataframe\n",
    "student_divorced=pd.DataFrame([student_divorced])\n",
    "student_divorced.index=index_\n",
    "#for blue_\n",
    "unemployed_divorced={\n",
    "    'Subscribe':[0],\n",
    "    'Not-Subscribe':[0]\n",
    "}\n",
    "unemployed_divorced['Subscribe']=Data.loc[(Data['job']=='unemployed') & (Data['marital']=='divorced'),'deposit'].value_counts()[0]\n",
    "unemployed_divorced['Not-Subscribe']=Data.loc[(Data['job']=='unemployed') & (Data['marital']=='divorced'),'deposit'].value_counts()[1]\n",
    "#create index\n",
    "index_=['unemployed']\n",
    "#create the Dataframe\n",
    "unemployed_divorced=pd.DataFrame([unemployed_divorced])\n",
    "unemployed_divorced.index=index_\n",
    "#for blue_\n",
    "entrepreneur_divorced={\n",
    "    'Subscribe':[0],\n",
    "    'Not-Subscribe':[0]\n",
    "}\n",
    "entrepreneur_divorced['Subscribe']=Data.loc[(Data['job']=='entrepreneur') & (Data['marital']=='divorced'),'deposit'].value_counts()[0]\n",
    "entrepreneur_divorced['Not-Subscribe']=Data.loc[(Data['job']=='entrepreneur') & (Data['marital']=='divorced'),'deposit'].value_counts()[1]\n",
    "#create index\n",
    "index_=['Entreprenuer']\n",
    "#create the Dataframe\n",
    "entrepreneur_divorced=pd.DataFrame([entrepreneur_divorced])\n",
    "entrepreneur_divorced.index=index_\n",
    "#for blue_\n",
    "housemaid_divorced={\n",
    "    'Subscribe':[0],\n",
    "    'Not-Subscribe':[0]\n",
    "}\n",
    "housemaid_divorced['Subscribe']=Data.loc[(Data['job']=='housemaid') & (Data['marital']=='divorced'),'deposit'].value_counts()[0]\n",
    "housemaid_divorced['Not-Subscribe']=Data.loc[(Data['job']=='housemaid') & (Data['marital']=='divorced'),'deposit'].value_counts()[1]\n",
    "#create index\n",
    "index_=['housemaid']\n",
    "#create the Dataframe\n",
    "housemaid_divorced=pd.DataFrame([housemaid_divorced])\n",
    "housemaid_divorced.index=index_\n",
    "#for blue_\n",
    "frames3=[management_divorced,blue_divorced,technician_divorced,admin_divorced,services_divorced,retired_divorced,self_employed_divorced,student_divorced,unemployed_divorced,entrepreneur_divorced,housemaid_divorced]\n",
    "result3=pd.concat(frames3)\n",
    "job_divorced = pd.DataFrame(result3)\n",
    "job_divorced\n",
    "job_divorced[[\"Subscribe\",\"Not-Subscribe\"]].plot(kind=\"bar\",stacked=False)\n",
    "plt.title(\"Divorced People and their Jobs\")\n",
    "plt.show()"
   ]
  },
  {
   "cell_type": "code",
   "execution_count": 31,
   "metadata": {},
   "outputs": [],
   "source": [
    "#splitting the dataset to x as a independent varialbes\n",
    "x=Data.iloc[:,0:13].values"
   ]
  },
  {
   "cell_type": "code",
   "execution_count": 32,
   "metadata": {},
   "outputs": [
    {
     "data": {
      "text/plain": [
       "(11162, 13)"
      ]
     },
     "execution_count": 32,
     "metadata": {},
     "output_type": "execute_result"
    }
   ],
   "source": [
    "x.shape"
   ]
  },
  {
   "cell_type": "code",
   "execution_count": 33,
   "metadata": {
    "scrolled": true
   },
   "outputs": [],
   "source": [
    "#splitting the dataset to y as a dependent variable\n",
    "y=Data.iloc[:,-1].values"
   ]
  },
  {
   "cell_type": "code",
   "execution_count": 34,
   "metadata": {},
   "outputs": [],
   "source": [
    "from sklearn.preprocessing import LabelEncoder"
   ]
  },
  {
   "cell_type": "code",
   "execution_count": 35,
   "metadata": {},
   "outputs": [
    {
     "data": {
      "text/plain": [
       "array([1, 1, 1, ..., 0, 0, 0])"
      ]
     },
     "execution_count": 35,
     "metadata": {},
     "output_type": "execute_result"
    }
   ],
   "source": [
    "#converiting y from catagorical to numerical values\n",
    "lb=LabelEncoder()\n",
    "y=lb.fit_transform(y)\n",
    "y"
   ]
  },
  {
   "cell_type": "code",
   "execution_count": 36,
   "metadata": {},
   "outputs": [],
   "source": [
    "#converting x[:,4] default(catagorical variable) to numeric values\n",
    "x[:,4]=lb.fit_transform(x[:,4])"
   ]
  },
  {
   "cell_type": "code",
   "execution_count": 37,
   "metadata": {},
   "outputs": [],
   "source": [
    "#converting x[:,6] housing(catagorical variable) to numeric values\n",
    "x[:,6]=lb.fit_transform(x[:,6])"
   ]
  },
  {
   "cell_type": "code",
   "execution_count": 38,
   "metadata": {},
   "outputs": [],
   "source": [
    "#converting x[:,7] loan(catagorical variable) to numeric values\n",
    "x[:,7]=lb.fit_transform(x[:,7])"
   ]
  },
  {
   "cell_type": "code",
   "execution_count": 39,
   "metadata": {},
   "outputs": [],
   "source": [
    "from sklearn.compose import ColumnTransformer\n",
    "from sklearn.preprocessing import OneHotEncoder"
   ]
  },
  {
   "cell_type": "code",
   "execution_count": 40,
   "metadata": {},
   "outputs": [
    {
     "data": {
      "text/plain": [
       "array([[1.0, 0.0, 0.0, ..., 1, -1, 0],\n",
       "       [1.0, 0.0, 0.0, ..., 1, -1, 0],\n",
       "       [0.0, 0.0, 0.0, ..., 1, -1, 0],\n",
       "       ...,\n",
       "       [0.0, 0.0, 0.0, ..., 2, -1, 0],\n",
       "       [0.0, 0.0, 0.0, ..., 2, 172, 5],\n",
       "       [0.0, 0.0, 0.0, ..., 1, -1, 0]], dtype=object)"
      ]
     },
     "execution_count": 40,
     "metadata": {},
     "output_type": "execute_result"
    }
   ],
   "source": [
    "ct1=ColumnTransformer([(\"jb\",OneHotEncoder(),[1])],remainder='passthrough')\n",
    "x=ct1.fit_transform(x)\n",
    "x"
   ]
  },
  {
   "cell_type": "code",
   "execution_count": 41,
   "metadata": {},
   "outputs": [],
   "source": [
    "x=x[:,1:]"
   ]
  },
  {
   "cell_type": "code",
   "execution_count": 42,
   "metadata": {},
   "outputs": [
    {
     "data": {
      "text/plain": [
       "array([0.0, 0.0, 0.0, 0.0, 0.0, 0.0, 0.0, 0.0, 1.0, 0.0, 41, 'married',\n",
       "       'secondary', 0, 1270, 1, 0, 5, 1389, 1, -1, 0], dtype=object)"
      ]
     },
     "execution_count": 42,
     "metadata": {},
     "output_type": "execute_result"
    }
   ],
   "source": [
    "x[2,:] #for job"
   ]
  },
  {
   "cell_type": "code",
   "execution_count": 43,
   "metadata": {},
   "outputs": [
    {
     "data": {
      "text/plain": [
       "(11162, 24)"
      ]
     },
     "execution_count": 43,
     "metadata": {},
     "output_type": "execute_result"
    }
   ],
   "source": [
    "ct2=ColumnTransformer([(\"mr\",OneHotEncoder(),[11])],remainder='passthrough')\n",
    "x=ct2.fit_transform(x)\n",
    "x.shape"
   ]
  },
  {
   "cell_type": "code",
   "execution_count": 44,
   "metadata": {},
   "outputs": [],
   "source": [
    "x=x[:,1:]"
   ]
  },
  {
   "cell_type": "code",
   "execution_count": 45,
   "metadata": {},
   "outputs": [
    {
     "data": {
      "text/plain": [
       "array([1.0, 0.0, 0.0, 0.0, 0.0, 0.0, 0.0, 0.0, 0.0, 0.0, 1.0, 0.0, 41,\n",
       "       'secondary', 0, 1270, 1, 0, 5, 1389, 1, -1, 0], dtype=object)"
      ]
     },
     "execution_count": 45,
     "metadata": {},
     "output_type": "execute_result"
    }
   ],
   "source": [
    "x[2,:] #for marriage"
   ]
  },
  {
   "cell_type": "code",
   "execution_count": 46,
   "metadata": {},
   "outputs": [
    {
     "data": {
      "text/plain": [
       "(11162, 25)"
      ]
     },
     "execution_count": 46,
     "metadata": {},
     "output_type": "execute_result"
    }
   ],
   "source": [
    "ct3=ColumnTransformer([(\"edu\",OneHotEncoder(),[13])],remainder='passthrough')\n",
    "x=ct3.fit_transform(x)\n",
    "x.shape"
   ]
  },
  {
   "cell_type": "code",
   "execution_count": 47,
   "metadata": {},
   "outputs": [],
   "source": [
    "x=x[:,1:]"
   ]
  },
  {
   "cell_type": "code",
   "execution_count": 48,
   "metadata": {},
   "outputs": [
    {
     "data": {
      "text/plain": [
       "(11162, 24)"
      ]
     },
     "execution_count": 48,
     "metadata": {},
     "output_type": "execute_result"
    }
   ],
   "source": [
    "x.shape"
   ]
  },
  {
   "cell_type": "code",
   "execution_count": 49,
   "metadata": {},
   "outputs": [
    {
     "data": {
      "text/plain": [
       "array([1.0, 0.0, 1.0, 0.0, 0.0, 0.0, 0.0, 0.0, 0.0, 0.0, 0.0, 0.0, 1.0,\n",
       "       0.0, 41, 0, 1270, 1, 0, 5, 1389, 1, -1, 0], dtype=object)"
      ]
     },
     "execution_count": 49,
     "metadata": {},
     "output_type": "execute_result"
    }
   ],
   "source": [
    "x[2,0:]"
   ]
  },
  {
   "cell_type": "code",
   "execution_count": 50,
   "metadata": {},
   "outputs": [
    {
     "data": {
      "text/plain": [
       "array([[2343],\n",
       "       [45],\n",
       "       [1270],\n",
       "       ...,\n",
       "       [29],\n",
       "       [0],\n",
       "       [0]], dtype=object)"
      ]
     },
     "execution_count": 50,
     "metadata": {},
     "output_type": "execute_result"
    }
   ],
   "source": [
    "x[:,16:17]"
   ]
  },
  {
   "cell_type": "code",
   "execution_count": 51,
   "metadata": {},
   "outputs": [
    {
     "data": {
      "text/plain": [
       "array([1.0, 0.0, 1.0, 0.0, 0.0, 0.0, 0.0, 0.0, 0.0, 0.0, 0.0, 0.0, 0.0,\n",
       "       0.0, 59, 0, 2343, 1, 0, 5, 1042, 1, -1, 0], dtype=object)"
      ]
     },
     "execution_count": 51,
     "metadata": {},
     "output_type": "execute_result"
    }
   ],
   "source": [
    "x[0,:]"
   ]
  },
  {
   "cell_type": "code",
   "execution_count": 52,
   "metadata": {},
   "outputs": [],
   "source": [
    "#df1=pd.DataFrame(x)\n",
    "#df1"
   ]
  },
  {
   "cell_type": "code",
   "execution_count": 53,
   "metadata": {},
   "outputs": [],
   "source": [
    "#df2=pd.DataFrame(y)\n",
    "#df3=pd.concat([df1,df2],axis=1)\n",
    "#df3"
   ]
  },
  {
   "cell_type": "code",
   "execution_count": 54,
   "metadata": {},
   "outputs": [],
   "source": [
    "#tot=df3.values"
   ]
  },
  {
   "cell_type": "code",
   "execution_count": 55,
   "metadata": {},
   "outputs": [],
   "source": [
    "#data_no_outlier=df3[(z_pos<=3).all(axis=1)]\n",
    "#data_no_outlier"
   ]
  },
  {
   "cell_type": "code",
   "execution_count": 56,
   "metadata": {},
   "outputs": [],
   "source": [
    "#x1=data_no_outlier.iloc[:,0:24].values\n",
    "#y1=data_no_outlier.iloc[:,-1].values"
   ]
  },
  {
   "cell_type": "code",
   "execution_count": 57,
   "metadata": {},
   "outputs": [],
   "source": [
    "from sklearn.model_selection import train_test_split\n",
    "x_train,x_test,y_train,y_test=train_test_split(x,y,test_size=0.2,random_state=1)"
   ]
  },
  {
   "cell_type": "code",
   "execution_count": 58,
   "metadata": {},
   "outputs": [],
   "source": [
    "from sklearn.ensemble import RandomForestClassifier\n",
    "rf=RandomForestClassifier(n_estimators=7,criterion='entropy',random_state=0,max_depth=9)"
   ]
  },
  {
   "cell_type": "code",
   "execution_count": 59,
   "metadata": {},
   "outputs": [
    {
     "data": {
      "text/plain": [
       "RandomForestClassifier(bootstrap=True, ccp_alpha=0.0, class_weight=None,\n",
       "                       criterion='entropy', max_depth=9, max_features='auto',\n",
       "                       max_leaf_nodes=None, max_samples=None,\n",
       "                       min_impurity_decrease=0.0, min_impurity_split=None,\n",
       "                       min_samples_leaf=1, min_samples_split=2,\n",
       "                       min_weight_fraction_leaf=0.0, n_estimators=7,\n",
       "                       n_jobs=None, oob_score=False, random_state=0, verbose=0,\n",
       "                       warm_start=False)"
      ]
     },
     "execution_count": 59,
     "metadata": {},
     "output_type": "execute_result"
    }
   ],
   "source": [
    "rf.fit(x_train,y_train)"
   ]
  },
  {
   "cell_type": "code",
   "execution_count": 60,
   "metadata": {},
   "outputs": [
    {
     "data": {
      "text/plain": [
       "['Banking1.save']"
      ]
     },
     "execution_count": 60,
     "metadata": {},
     "output_type": "execute_result"
    }
   ],
   "source": [
    "from joblib import dump\n",
    "dump(rf,'Banking1.save')"
   ]
  },
  {
   "cell_type": "code",
   "execution_count": 61,
   "metadata": {},
   "outputs": [
    {
     "data": {
      "text/plain": [
       "array([0, 0, 1, ..., 0, 0, 0])"
      ]
     },
     "execution_count": 61,
     "metadata": {},
     "output_type": "execute_result"
    }
   ],
   "source": [
    "y_pred=rf.predict(x_test)\n",
    "y_pred"
   ]
  },
  {
   "cell_type": "code",
   "execution_count": 62,
   "metadata": {},
   "outputs": [
    {
     "data": {
      "text/plain": [
       "0.8105687416032243"
      ]
     },
     "execution_count": 62,
     "metadata": {},
     "output_type": "execute_result"
    }
   ],
   "source": [
    "from sklearn.metrics import accuracy_score\n",
    "accuracy_score(y_test,y_pred)"
   ]
  },
  {
   "cell_type": "code",
   "execution_count": null,
   "metadata": {},
   "outputs": [],
   "source": []
  }
 ],
 "metadata": {
  "kernelspec": {
   "display_name": "Python 3",
   "language": "python",
   "name": "python3"
  },
  "language_info": {
   "codemirror_mode": {
    "name": "ipython",
    "version": 3
   },
   "file_extension": ".py",
   "mimetype": "text/x-python",
   "name": "python",
   "nbconvert_exporter": "python",
   "pygments_lexer": "ipython3",
   "version": "3.7.6"
  }
 },
 "nbformat": 4,
 "nbformat_minor": 4
}
